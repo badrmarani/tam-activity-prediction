{
 "cells": [
  {
   "cell_type": "code",
   "execution_count": null,
   "id": "4aca02c1",
   "metadata": {},
   "outputs": [],
   "source": [
    "import nglview\n",
    "import torchdrug\n",
    "from torchdrug import data, utils\n",
    "\n",
    "# pdb_file = utils.download(\"https://files.rcsb.org/download/2LWZ.pdb\", \"./\")\n",
    "pdb_file = \"enzymes/A0B8R0_relaxed.pdb\"\n",
    "protein = data.Protein.from_pdb(\n",
    "    pdb_file,\n",
    "    atom_feature=\"default\",\n",
    "    bond_feature=\"default\",\n",
    "    residue_feature=\"symbol\",\n",
    "    mol_feature=None,\n",
    ")\n",
    "print(protein)\n",
    "print(protein.residue_feature.shape)\n",
    "print(protein.atom_feature.shape)\n",
    "print(protein.bond_feature.shape)"
   ]
  },
  {
   "cell_type": "code",
   "execution_count": null,
   "id": "6dd41411",
   "metadata": {},
   "outputs": [],
   "source": [
    "lys = data.feature.onehot(\"LYS\", data.feature.residue_vocab, allow_unknown=True)"
   ]
  },
  {
   "cell_type": "code",
   "execution_count": null,
   "id": "4c74bd60",
   "metadata": {},
   "outputs": [],
   "source": [
    "import nglview\n",
    "\n",
    "view = nglview.show_file(pdb_file)\n",
    "view"
   ]
  },
  {
   "cell_type": "code",
   "execution_count": null,
   "id": "c01d5f4e",
   "metadata": {},
   "outputs": [],
   "source": [
    "first_x = 15\n",
    "print(\"node: 3d coords\")\n",
    "\n",
    "for atom, position in zip(protein.atom_name.tolist()[:first_x], protein.node_position.tolist()[:first_x]):\n",
    "    print(\"%s: %s\" % (data.Protein.id2atom_name[atom], position))"
   ]
  },
  {
   "cell_type": "code",
   "execution_count": null,
   "id": "066e7c22",
   "metadata": {},
   "outputs": [],
   "source": [
    "from torchdrug import datasets\n",
    "\n",
    "dataset = datasets.BetaLactamase(\"~/protein-datasets/\", atom_feature=None, bond_feature=None, residue_feature=\"default\", transform=None)\n",
    "train_set, valid_set, test_set = dataset.split()\n",
    "print(\"The label of first sample: \", dataset[0][dataset.target_fields[0]])\n",
    "print(\"train samples: %d, valid samples: %d, test samples: %d\" % (len(train_set), len(valid_set), len(test_set)))"
   ]
  },
  {
   "cell_type": "code",
   "execution_count": null,
   "id": "006b2739",
   "metadata": {},
   "outputs": [],
   "source": [
    "from torchdrug import tasks\n",
    "from torchdrug import models\n",
    "\n",
    "model = models.ProteinCNN(\n",
    "    input_dim=21,\n",
    "    hidden_dims=[1024, 1024],\n",
    "    kernel_size=5, padding=2, readout=\"max\"\n",
    ")\n",
    "\n",
    "task = tasks.PropertyPrediction(\n",
    "    model, task=dataset.tasks,\n",
    "    criterion=\"mse\", metric=(\"mae\", \"rmse\", \"spearmanr\", \"r2\"),\n",
    "    normalization=False, num_mlp_layer=2\n",
    ")"
   ]
  },
  {
   "cell_type": "code",
   "execution_count": null,
   "id": "c3858f07",
   "metadata": {},
   "outputs": [],
   "source": [
    "import torch\n",
    "from torchdrug import core\n",
    "\n",
    "optimizer = torch.optim.Adam(task.parameters(), lr=1e-4)\n",
    "solver = core.Engine(\n",
    "    task,\n",
    "    train_set,\n",
    "    valid_set,\n",
    "    test_set,\n",
    "    optimizer,\n",
    "    gpus=[0],\n",
    "    batch_size=64\n",
    ")\n",
    "solver.train(num_epoch=10)\n",
    "solver.evaluate(\"valid\")"
   ]
  },
  {
   "cell_type": "code",
   "execution_count": null,
   "id": "cd4b956d",
   "metadata": {},
   "outputs": [],
   "source": [
    "dataset = datasets.BindingDB(\"~/protein-datasets/\", atom_feature=None, bond_feature=None, residue_feature=\"default\", transform=None)\n",
    "train_set, valid_set, test_set = dataset.split([\"train\", \"valid\", \"holdout_test\"])\n",
    "print(\"The label of first sample: \", dataset[0][dataset.target_fields[0]])\n",
    "print(\"train samples: %d, valid samples: %d, test samples: %d\" % (len(train_set), len(valid_set), len(test_set)))"
   ]
  }
 ],
 "metadata": {
  "kernelspec": {
   "display_name": "Python 3 (ipykernel)",
   "language": "python",
   "name": "python3"
  },
  "vscode": {
   "interpreter": {
    "hash": "97cc609b13305c559618ec78a438abc56230b9381f827f22d070313b9a1f3777"
   }
  }
 },
 "nbformat": 4,
 "nbformat_minor": 5
}
