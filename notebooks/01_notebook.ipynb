{
 "cells": [
  {
   "cell_type": "code",
   "execution_count": null,
   "metadata": {},
   "outputs": [],
   "source": [
    "from rdkit import Chem\n",
    "from rdkit.Chem import AllChem\n",
    "from rdkit.Chem.Draw import IPythonConsole\n",
    "from rdkit.Chem.Draw import MolDrawing, DrawingOptions\n",
    "import parmed as pmd\n",
    "import nglview\n",
    "import os\n"
   ]
  },
  {
   "cell_type": "code",
   "execution_count": null,
   "metadata": {},
   "outputs": [],
   "source": [
    "DrawingOptions.bondLineWidth=1.8\n",
    "DrawingOptions.atomLabelFontSize=14\n",
    "DrawingOptions.includeAtomNumbers=False"
   ]
  },
  {
   "cell_type": "code",
   "execution_count": null,
   "metadata": {},
   "outputs": [],
   "source": [
    "pmp_seq = \"CC1=NC=C(C(=C1O)CN)COP(=O)(O)O\"\n",
    "plp_seq = \"CC1=NC=C(C(=C1O)C=O)COP(=O)(O)[O-]\"\n",
    "pmp = Chem.MolFromSmiles(pmp_seq)\n",
    "plp = Chem.MolFromSmiles(plp_seq)\n",
    "plp"
   ]
  },
  {
   "cell_type": "code",
   "execution_count": null,
   "metadata": {},
   "outputs": [],
   "source": [
    "os.system(\"obabel -:'{}' -Oplp.sdf --gen3D\".format(plp_seq))"
   ]
  },
  {
   "cell_type": "code",
   "execution_count": null,
   "metadata": {},
   "outputs": [],
   "source": [
    "pdb1 = pmd.load_file('a0b8r0_plp.pdb')\n",
    "pdb2 = pmd.load_file('docked_enz_ligs_2/lig1.pdb')\n",
    "\n",
    "combined = pdb1 + pdb2\n",
    "combined.save('a0b8r0_plp_2oata_2.pdb'.lower())"
   ]
  },
  {
   "cell_type": "code",
   "execution_count": null,
   "metadata": {},
   "outputs": [],
   "source": [
    "view = nglview.show_file(\"out/A0B8R0_PMP_2OATA.pdb\")\n",
    "view"
   ]
  }
 ],
 "metadata": {
  "kernelspec": {
   "display_name": "Python 3 (ipykernel)",
   "language": "python",
   "name": "python3"
  },
  "language_info": {
   "codemirror_mode": {
    "name": "ipython",
    "version": 3
   },
   "file_extension": ".py",
   "mimetype": "text/x-python",
   "name": "python",
   "nbconvert_exporter": "python",
   "pygments_lexer": "ipython3",
   "version": "3.9.7"
  },
  "orig_nbformat": 4
 },
 "nbformat": 4,
 "nbformat_minor": 2
}
